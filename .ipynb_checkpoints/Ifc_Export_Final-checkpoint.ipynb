{
 "cells": [
  {
   "cell_type": "code",
   "execution_count": 7,
   "id": "109af795",
   "metadata": {},
   "outputs": [
    {
     "name": "stdout",
     "output_type": "stream",
     "text": [
      "Start: Starte Grunddatein einlesen...\n"
     ]
    }
   ],
   "source": [
    "#Import der relevanten Module\n",
    "\n",
    "import ifcopenshell\n",
    "import ifcopenshell.util\n",
    "import ifcopenshell.util.element\n",
    "\n",
    "import pandas as pd\n",
    "\n",
    "#Helpers - Hilfs-Datenstrukturen erstellen\n",
    "\n",
    "import Helpers as hlp\n",
    "import Export_Data as ed\n",
    "\n",
    "#Globale Variablen - Listen\n",
    "\n",
    "conf_lst = []\n",
    "export_lst = []\n",
    "\n",
    "#Alle Grundlagen einlesen > IFC + Excel-Elementplan\n",
    "\n",
    "print(\"Start: Starte Grunddatein einlesen...\")\n",
    "\n",
    "source_path = \"./ARC_Modell_NEST_230328.ifc\"\n",
    "ifc_file = ifcopenshell.open(source_path)\n",
    "\n",
    "xls_file = (\"./Elementplan.xlsx\")\n",
    "\n",
    "s_data_category = pd.read_excel(xls_file, \"Objektkatalog\")\n",
    "s_data_attributes = pd.read_excel(xls_file, \"Attributsliste\")\n",
    "\n",
    "\n",
    "#Daten aus dem Elementplan auslesen und strukturiert speichern\n",
    "\n",
    "for index, row in s_data_category.iterrows():  \n",
    "\n",
    "    attr_df = s_data_category.iloc[index,2]\n",
    "\n",
    "    if attr_df:\n",
    "\n",
    "        attr_in_group = s_data_attributes[s_data_attributes[\"Gruppe\"] == attr_df]\n",
    "\n",
    "        print(attr_in_group)\n",
    "\n",
    "        prop_lst = []\n",
    "\n",
    "        for _i, _r in attr_in_group.iterrows():\n",
    "\n",
    "            p_h = hlp.Prop_Holder(_r[\"Pset\"], _r[\"Property\"])\n",
    "            prop_lst.append(p_h)\n",
    "\n",
    "\n",
    "        _target_obj = filterConfig(row[\"IfcClass\"])\n",
    "\n",
    "        if _target_obj != None:\n",
    "            _target_obj.prop_list.append(prop_lst)\n",
    "        else:\n",
    "            d_h = hlp.Data_Holder(row[\"IfcClass\"], prop_lst)\n",
    "            conf_lst.append(d_h)\n",
    "\n",
    "\n",
    "#IFC Datein Auswerten und Daten strukturiert speichern\n",
    "\n",
    "\n",
    "\n",
    "\n",
    "\n",
    "\n",
    "\n",
    "\n",
    "#Export der Daten als Excel"
   ]
  },
  {
   "cell_type": "code",
   "execution_count": null,
   "id": "c9bab6bb",
   "metadata": {},
   "outputs": [],
   "source": []
  }
 ],
 "metadata": {
  "kernelspec": {
   "display_name": "Python 3 (ipykernel)",
   "language": "python",
   "name": "python3"
  },
  "language_info": {
   "codemirror_mode": {
    "name": "ipython",
    "version": 3
   },
   "file_extension": ".py",
   "mimetype": "text/x-python",
   "name": "python",
   "nbconvert_exporter": "python",
   "pygments_lexer": "ipython3",
   "version": "3.11.3"
  }
 },
 "nbformat": 4,
 "nbformat_minor": 5
}
